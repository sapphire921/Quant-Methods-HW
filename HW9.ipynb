{
 "cells": [
  {
   "cell_type": "markdown",
   "metadata": {},
   "source": [
    "# Homework 9"
   ]
  },
  {
   "cell_type": "markdown",
   "metadata": {},
   "source": [
    "Author: Sherry"
   ]
  },
  {
   "cell_type": "markdown",
   "metadata": {},
   "source": [
    "# Exercise 1"
   ]
  },
  {
   "cell_type": "markdown",
   "metadata": {},
   "source": [
    "## (a)"
   ]
  },
  {
   "cell_type": "code",
   "execution_count": 1,
   "metadata": {},
   "outputs": [
    {
     "name": "stdout",
     "output_type": "stream",
     "text": [
      "European Call Option Price = 14.8144409408\n"
     ]
    }
   ],
   "source": [
    "import numpy as np\n",
    "\n",
    "# define the function GenerateSamplePath() to generate a sample path of \n",
    "# stock price\n",
    "def GenerateSamplePath(S0,r,sigma,T,m):\n",
    "    St=S0\n",
    "    S=[]\n",
    "    k=0\n",
    "    while k<m:\n",
    "        S.append(St*np.exp((r-sigma*sigma*0.5)*(T/m) +sigma*np.sqrt(T/m)\\\n",
    "                           *np.random.standard_normal()))\n",
    "        St=S[k]\n",
    "        k=k+1\n",
    "    return S\n",
    "\n",
    "\n",
    "# define the function CallPayoff()\n",
    "def CallPayoff(S0,r,sigma,T,m,SamplePath,K):\n",
    "    ST=SamplePath[m-1]\n",
    "    if ST<K:\n",
    "        return 0\n",
    "    else:\n",
    "        return ST-K\n",
    "    \n",
    "\n",
    "# define the function PriceByMC() to replicate the simulation for N times\n",
    "# and compute the average of the discounted payoffs which is the option  \n",
    "# price by Monte Carlo simulation\n",
    "def PriceByMC(S0,r,sigma,T,m,K,N):\n",
    "    H=0\n",
    "    S=[]\n",
    "    p=[]\n",
    "    i=0\n",
    "    while i<N:\n",
    "        S=GenerateSamplePath(S0,r,sigma,T,m)\n",
    "        price=np.exp(-r*T)*CallPayoff(S0,r,sigma,T,m,S,K)\n",
    "        H=(i/(i+1))*H + price/(i+1)\n",
    "        i=i+1\n",
    "    return H\n",
    "\n",
    "\n",
    "# test\n",
    "S0=110      # today's stock price\n",
    "r=0.01      # interest rate\n",
    "sigma=0.2   # volatility\n",
    "T=1         # time to maturity\n",
    "m=12        # number of time steps\n",
    "K=100       # strike price\n",
    "N=10000     # number of replications of the MC algorithm\n",
    "print(\"European Call Option Price =\",PriceByMC(S0,r,sigma,T,m,K,N))"
   ]
  },
  {
   "cell_type": "markdown",
   "metadata": {
    "collapsed": true
   },
   "source": [
    "## (b)"
   ]
  },
  {
   "cell_type": "code",
   "execution_count": 2,
   "metadata": {},
   "outputs": [
    {
     "name": "stdout",
     "output_type": "stream",
     "text": [
      "today's stock price [50, 60, 70, 80, 90, 100, 110, 120, 130, 140, 150]\n",
      "S = 50 , European Call Option Price by MC= 0.000319056357972\n",
      "S = 60 , European Call Option Price by MC= 0.028958931138\n",
      "S = 70 , European Call Option Price by MC= 0.307034179651\n",
      "S = 80 , European Call Option Price by MC= 1.31944392725\n",
      "S = 90 , European Call Option Price by MC= 3.74350549371\n",
      "S = 100 , European Call Option Price by MC= 8.50615089578\n",
      "S = 110 , European Call Option Price by MC= 15.151850134\n",
      "S = 120 , European Call Option Price by MC= 22.8278616118\n",
      "S = 130 , European Call Option Price by MC= 32.1957596938\n",
      "S = 140 , European Call Option Price by MC= 41.7381570897\n",
      "S = 150 , European Call Option Price by MC= 51.1247785151\n",
      "payoff: [0, 0, 0, 0, 0, 0, 10, 20, 30, 40, 50]\n",
      "S = 50 , priceByFormula: 0.0011418674436\n",
      "S = 60 , priceByFormula: 0.0303735955625\n",
      "S = 70 , priceByFormula: 0.27952126691\n",
      "S = 80 , priceByFormula: 1.30224533871\n",
      "S = 90 , priceByFormula: 3.86140414223\n",
      "S = 100 , priceByFormula: 8.43331869011\n",
      "S = 110 , priceByFormula: 14.9447040235\n",
      "S = 120 , priceByFormula: 22.9418765531\n",
      "S = 130 , priceByFormula: 31.8963186176\n",
      "S = 140 , priceByFormula: 41.3913077299\n",
      "S = 150 , priceByFormula: 51.1621545257\n"
     ]
    },
    {
     "data": {
      "image/png": "[encoded data removed]",
      "text/plain": [
       "<matplotlib.figure.Figure at 0x117161160>"
      ]
     },
     "metadata": {},
     "output_type": "display_data"
    }
   ],
   "source": [
    "import matplotlib.pyplot as plt\n",
    "from scipy.stats import norm\n",
    "\n",
    "# define the function PriceByFormula() to calculate the call option price\n",
    "# by BS formula\n",
    "def PriceByFormula(S0,r,sigma,T,K):\n",
    "    dp=(np.log(S0/K)+(r+0.5*pow(sigma,2.0))*T)/(sigma*np.sqrt(T))\n",
    "    dm=dp-sigma*np.sqrt(T)\n",
    "    p=S0*norm.cdf(dp,0,1)-K*np.exp(-r*T)*norm.cdf(dm,0,1)\n",
    "    return p\n",
    "\n",
    "S=[]        # today's stock price\n",
    "i=50\n",
    "while i<=150:\n",
    "    S.append(i)\n",
    "    i=i+10\n",
    "print(\"today's stock price\",S)\n",
    "r=0.01      # interest rate\n",
    "sigma=0.2   # volatility\n",
    "T=1         # time to maturity\n",
    "m=12        # number of time steps\n",
    "K=100       # strike price\n",
    "N=10000     # number of replications of the MC algorithm\n",
    "\n",
    "price=[]\n",
    "for j in range(0,11):\n",
    "    a=PriceByMC(S[j],r,sigma,T,m,K,N)\n",
    "    price.append(a)\n",
    "    print(\"S =\",S[j],\", European Call Option Price by MC=\",a)\n",
    "\n",
    "payoff=[]\n",
    "for k in range(0,11):\n",
    "    b=max(0,S[k]-K)\n",
    "    payoff.append(b)\n",
    "print(\"payoff:\",payoff)\n",
    "\n",
    "priceByFormula=[]\n",
    "for l in range(0,11):\n",
    "    c=PriceByFormula(S[l],r,sigma,T,K)\n",
    "    priceByFormula.append(c)\n",
    "    print(\"S =\",S[l],\", priceByFormula:\",c)\n",
    "\n",
    "# Plot the price as a function of S\n",
    "plt.figure(figsize=(10, 6))\n",
    "plt.plot(S, price, label=u'Call Price by MC')\n",
    "plt.plot(S, payoff, label=u'Payoff Function')   # Plot the payoff function\n",
    "plt.plot(S, priceByFormula, label=u'Call Price by Formula')\n",
    "plt.legend()\n",
    "plt.xlabel('Stock Price S')\n",
    "plt.ylabel('Call Price C')\n",
    "plt.title('European Call Option Price as a Function of S')\n",
    "\n",
    "\n",
    "\n",
    "plt.show()\n",
    "\n"
   ]
  },
  {
   "cell_type": "markdown",
   "metadata": {
    "collapsed": true
   },
   "source": [
    "We find that for each S, the call prices computed by MC and computed by BS formula are very close."
   ]
  },
  {
   "cell_type": "markdown",
   "metadata": {},
   "source": [
    "## (c) Digital Option"
   ]
  },
  {
   "cell_type": "code",
   "execution_count": 3,
   "metadata": {},
   "outputs": [
    {
     "name": "stdout",
     "output_type": "stream",
     "text": [
      "Digital Option Price = 8.02930415171\n"
     ]
    }
   ],
   "source": [
    "# define the function CallPayoff()\n",
    "def DigitalPayoff(S0,r,sigma,T,m,SamplePath,K,Q):\n",
    "    ST=SamplePath[m-1]\n",
    "    if ST<K:\n",
    "        return 0\n",
    "    else:\n",
    "        return Q\n",
    "    \n",
    "\n",
    "# define the function DigitalPriceByMC() to replicate the simulation for N\n",
    "# timesand compute the average of the discounted payoffs which is the option  \n",
    "# price by Monte Carlo simulation\n",
    "def DigitalPriceByMC(S0,r,sigma,T,m,K,N,Q):\n",
    "    H=0\n",
    "    S=[]\n",
    "    p=[]\n",
    "    i=0\n",
    "    while i<N:\n",
    "        S=GenerateSamplePath(S0,r,sigma,T,m)\n",
    "        price=np.exp(-r*T)*DigitalPayoff(S0,r,sigma,T,m,S,K,Q)\n",
    "        H=(i/(i+1))*H + price/(i+1)\n",
    "        i=i+1\n",
    "    return H\n",
    "\n",
    "\n",
    "# test\n",
    "S0=120      # today's stock price\n",
    "r=0.01      # interest rate\n",
    "sigma=0.2   # volatility\n",
    "T=1         # time to maturity\n",
    "m=12        # number of time steps\n",
    "K=100       # strike price\n",
    "Q=10\n",
    "N=10000     # number of replications of the MC algorithm\n",
    "print(\"Digital Option Price =\",DigitalPriceByMC(S0,r,sigma,T,m,K,N,Q))"
   ]
  }
 ],
 "metadata": {
  "kernelspec": {
   "display_name": "Python 3",
   "language": "python",
   "name": "python3"
  },
  "language_info": {
   "codemirror_mode": {
    "name": "ipython",
    "version": 3
   },
   "file_extension": ".py",
   "mimetype": "text/x-python",
   "name": "python",
   "nbconvert_exporter": "python",
   "pygments_lexer": "ipython3",
   "version": "3.6.1"
  }
 },
 "nbformat": 4,
 "nbformat_minor": 2
}
