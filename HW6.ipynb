{
 "cells": [
  {
   "cell_type": "markdown",
   "metadata": {},
   "source": [
    "# Homework 6"
   ]
  },
  {
   "cell_type": "markdown",
   "metadata": {},
   "source": [
    "Author: Sherry"
   ]
  },
  {
   "cell_type": "markdown",
   "metadata": {},
   "source": [
    "# Exercise 2"
   ]
  },
  {
   "cell_type": "markdown",
   "metadata": {},
   "source": [
    "## (a) Write a code that prices, through backward induction, a European Call which payoff is given by (SN-K)+ for K = 60."
   ]
  },
  {
   "cell_type": "markdown",
   "metadata": {},
   "source": [
    "S0=50, time interval=1 day, u=1.01, d=0.99, r=0.01/126 per day, N=504 days, K=60."
   ]
  },
  {
   "cell_type": "code",
   "execution_count": 1,
   "metadata": {},
   "outputs": [
    {
     "name": "stdout",
     "output_type": "stream",
     "text": [
      "European call option price =  1.917161602552663\n",
      "Delta =  0.30078185398544566\n"
     ]
    }
   ],
   "source": [
    "#Define the StockPrice() function to calculate the stock price at node (N,i)\n",
    "#i is the number of steps the stock price goes up, (N-i) is the number of \n",
    "#steps the stock price goes down.\n",
    "def StockPrice(S0,u,d,N,i):\n",
    "    return S0*pow(u,i)*pow(d,N-i)\n",
    "\n",
    "\n",
    "#Define the CallPatoff() to calculate the call option payoff\n",
    "def CallPayoff(St,K):\n",
    "    if St>K:\n",
    "        return St-K\n",
    "    else:\n",
    "        return 0\n",
    "\n",
    "#Define the Function1().\n",
    "#It computes the (N!)/(i!(N-i)!) term which will be used in the CallPrice() \n",
    "#function.\n",
    "def Function1(N,i):\n",
    "    result=1\n",
    "    n=1\n",
    "    while n<=i:\n",
    "        result=result*(N-i+n)/n\n",
    "        n=n+1\n",
    "    return result\n",
    "\n",
    "#Define the CallPrice() to compute the call option price at time t=0\n",
    "def CallPrice(S0,u,d,r,N,K):\n",
    "    #compute the risk-neutral probability\n",
    "    p=(1+r-d)/(u-d)\n",
    "    \n",
    "    #compute the call option price\n",
    "    price=0\n",
    "    i=0\n",
    "    while i<=N:\n",
    "        price=price+Function1(N,i)*pow(p,i)*pow(1-p,N-i)*\\\n",
    "        CallPayoff(StockPrice(S0,u,d,N,i),K)/pow(1+r,N)\n",
    "        i=i+1\n",
    "    return price\n",
    "\n",
    "#Define the Delta() to compute call option Delta at time t=0\n",
    "def Delta(S0,u,d,r,N,K):\n",
    "    #compute the stock prices and call option prices at time t=1\n",
    "    Su=S0*u\n",
    "    Sd=S0*d\n",
    "    price_u=CallPrice(Su,u,d,r,N-1,K)\n",
    "    price_d=CallPrice(Sd,u,d,r,N-1,K)\n",
    "    \n",
    "    #compute Delta at time t=0\n",
    "    delta=(price_u-price_d)/(Su-Sd)\n",
    "    return delta\n",
    "    \n",
    "\n",
    "#test\n",
    "S0=50\n",
    "u=1.01\n",
    "d=0.99\n",
    "r=0.01/126\n",
    "N=504\n",
    "K=60\n",
    "C=CallPrice(S0,u,d,r,N,K)\n",
    "Delta=Delta(S0,u,d,r,N,K)\n",
    "print(\"European call option price = \",C)\n",
    "print(\"Delta = \",Delta)\n"
   ]
  },
  {
   "cell_type": "markdown",
   "metadata": {},
   "source": [
    "## (b) Write a code that prices, through backward induction, a Lookback option which payoff is given by max_{0≤n≤N}(SN-Sn)."
   ]
  },
  {
   "cell_type": "markdown",
   "metadata": {},
   "source": [
    "S0=50, time interval=1 day, u=1.01, d=0.99, r=0.01/126 per day, N=20 days."
   ]
  },
  {
   "cell_type": "code",
   "execution_count": 2,
   "metadata": {},
   "outputs": [
    {
     "name": "stdout",
     "output_type": "stream",
     "text": [
      "Lookback option price =  1.58079109388\n",
      "Delta =  0.0307128870843\n"
     ]
    }
   ],
   "source": [
    "import numpy as np\n",
    "\n",
    "#Define the LookbackPrice() to compute the lookback option price at time t=0\n",
    "def LookbackPrice(S0,u,d,r,N):\n",
    "    #compute the risk-neutral probability\n",
    "    p=(1+r-d)/(u-d)\n",
    "    \n",
    "    #simulate the path (there are 2^N paths) and store the paths in a\n",
    "    path=[]\n",
    "    a=np.zeros(shape=(pow(2,N),N+1))\n",
    "    down=[]\n",
    "    for i in range(0,pow(2,N)):\n",
    "        path.append(bin(i).zfill(N)) \n",
    "    #here we use the binary format of the integers from 0 to (2^N)-1\n",
    "    #to simulate the path: with the binary format of each integer,\n",
    "    #a digit of 1 represents a down step and a digit of 0 represents\n",
    "    #an up step. Since all the 2^N integers can be expressed in 10-bit\n",
    "    #binary format, there are 2^N different paths in total.\n",
    "    \n",
    "    for i in range(0,pow(2,N)):\n",
    "        c=0  #count the number of down steps\n",
    "        S=S0\n",
    "        a[i][0]=S #the first column of a is the stock price at time time=0\n",
    "        j=-1 \n",
    "        while j>=-N:  #change the binary digits to the stock price\n",
    "            if (str(path[i][j])==\"1\"): #when there is a \"1\", the stock price\n",
    "                                       #goes down\n",
    "                a[i][-j]=S*d\n",
    "                c=c+1\n",
    "            else:  #when there is a \"0\", the stock price goes up\n",
    "                a[i][-j]=S*u\n",
    "            S=a[i][-j]\n",
    "            j=j-1\n",
    "        down.append(c)\n",
    "            \n",
    "    #compute the payoff of each path and store the payoffs in b\n",
    "    b=[] \n",
    "    for i in range(0,pow(2,N)):\n",
    "        b.append(a[i][N]-min(a[i])) #the payoff is S_T minus the lowest stock\n",
    "                                    #price in the path\n",
    "        \n",
    "    #compute the price\n",
    "    price=0\n",
    "    for k in range(0,pow(2,N)):\n",
    "        price=price+b[k]*pow(p,N-down[k])*pow(1-p,down[k])/pow(1+r,N)\n",
    "    return price\n",
    "\n",
    "def LookbackDelta(S0,u,d,r,N):\n",
    "    #compute the stock prices and option prices at time t=1\n",
    "    Su=S0*u\n",
    "    Sd=S0*d\n",
    "    price_u=LookbackPrice(Su,u,d,r,N-1)\n",
    "    price_d=LookbackPrice(Sd,u,d,r,N-1)\n",
    "    \n",
    "    #compute Delta at time t=0\n",
    "    delta=(price_u-price_d)/(Su-Sd)\n",
    "    return delta\n",
    "\n",
    "\n",
    "#test\n",
    "S0=50\n",
    "u=1.01\n",
    "d=0.99\n",
    "r=0.01/126\n",
    "N=20\n",
    "\n",
    "Price=LookbackPrice(S0,u,d,r,N)\n",
    "LookbackDelta=LookbackDelta(S0,u,d,r,N)\n",
    "print(\"Lookback option price = \",Price)\n",
    "print(\"Delta = \",LookbackDelta)\n"
   ]
  },
  {
   "cell_type": "markdown",
   "metadata": {},
   "source": [
    "## (c) Write a code that prices, through backward induction, an American call option with strike K = 60, which is a European call option that you can choose to exercise at any time between 1, ... , N."
   ]
  },
  {
   "cell_type": "code",
   "execution_count": 3,
   "metadata": {},
   "outputs": [
    {
     "name": "stdout",
     "output_type": "stream",
     "text": [
      "American call option price =  1.91716160255\n"
     ]
    }
   ],
   "source": [
    "import numpy as np\n",
    "\n",
    "#Define the function AmCallPrice() to compute the American call option price \n",
    "#at time t=0\n",
    "def AmCallPrice(S0,u,d,r,N,K):\n",
    "    #compute the risk-neutral probability\n",
    "    p=(1+r-d)/(u-d)\n",
    "    Tree = np.zeros(shape=(N+1,N+1))\n",
    "    for i in range(0,N+1): #compute the payoffs at time t=T\n",
    "        Tree[N][i]=CallPayoff(StockPrice(S0,u,d,N,i),K)\n",
    "    n=N-1\n",
    "    while n>=0: \n",
    "        for i in range(0,n+1):\n",
    "            #compute the payoff through backward induction\n",
    "            value=(p*Tree[n+1][i+1]+(1-p)*Tree[n+1][i])/(1+r) \n",
    "            #compute the payoff if we exercise the option at the current node\n",
    "            Tree[n][i]=CallPayoff(StockPrice(S0,u,d,n,i),K)\n",
    "            #compare the two payoffs to decide if we exercise the option at \n",
    "            #this node\n",
    "            if (value>Tree[n][i]):\n",
    "                Tree[n][i]=value\n",
    "        n=n-1\n",
    "    return Tree[0][0]\n",
    "\n",
    "#Test\n",
    "S0=50\n",
    "u=1.01\n",
    "d=0.99\n",
    "r=0.01/126\n",
    "N=504\n",
    "K=60\n",
    "a=AmCallPrice(S0,u,d,r,N,K)\n",
    "print(\"American call option price = \",a)\n"
   ]
  }
 ],
 "metadata": {
  "kernelspec": {
   "display_name": "Python 3",
   "language": "python",
   "name": "python3"
  },
  "language_info": {
   "codemirror_mode": {
    "name": "ipython",
    "version": 3
   },
   "file_extension": ".py",
   "mimetype": "text/x-python",
   "name": "python",
   "nbconvert_exporter": "python",
   "pygments_lexer": "ipython3",
   "version": "3.6.1"
  }
 },
 "nbformat": 4,
 "nbformat_minor": 2
}
