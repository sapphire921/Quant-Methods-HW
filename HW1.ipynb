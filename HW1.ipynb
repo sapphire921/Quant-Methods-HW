{
 "cells": [
  {
   "cell_type": "markdown",
   "metadata": {},
   "source": [
    "# FRE 6083 Homework 1"
   ]
  },
  {
   "cell_type": "markdown",
   "metadata": {},
   "source": [
    "Author: Z. Xu"
   ]
  },
  {
   "cell_type": "markdown",
   "metadata": {},
   "source": [
    "## Exercise 1"
   ]
  },
  {
   "cell_type": "markdown",
   "metadata": {},
   "source": [
    "(b) Generate N = 10,000 samples of a Normal random variable of mean 5 and variance 4. Plot a histogram that counts the number of samples falling in the intervals [−5, −3], [−3, −1], [−1, 1], ..., [13, 15]."
   ]
  },
  {
   "cell_type": "code",
   "execution_count": 1,
   "metadata": {
    "scrolled": true
   },
   "outputs": [
    {
     "name": "stdout",
     "output_type": "stream",
     "text": [
      "[ 4.29812976  4.79972255  2.8363646  ...,  5.56507881  6.37792516\n",
      "  7.10974782]\n"
     ]
    },
    {
     "data": {
      "image/png": "[encoded data removed]",
      "text/plain": [
       "<matplotlib.figure.Figure at 0x10fb630b8>"
      ]
     },
     "metadata": {},
     "output_type": "display_data"
    }
   ],
   "source": [
    "import numpy as np\n",
    "import matplotlib.pyplot as plt\n",
    "import matplotlib.mlab as mlab\n",
    "\n",
    "# Generate the random data\n",
    "mu=5                                # Mean of the normal random variable\n",
    "sigma=2                             # Standard deviation of the normal random variable\n",
    "N=10000                             # Number of samples\n",
    "x=sigma*np.random.randn(N)+mu       # Generate 10000 samples of Normal random variable of\n",
    "print(x)                            # Mean 5 and standard deviation 2\n",
    "\n",
    "# Draw the histogram\n",
    "num_bins=10                         # The number of bins\n",
    "n,bins,patches=plt.hist(x,num_bins,range=[-5,15])\n",
    "plt.plot(bins)\n",
    "plt.xlabel('Normal random data')    \n",
    "plt.ylabel('Number of data in each bin')    \n",
    "plt.title('10000 samples of normal random data of mean 5 and variance 4')\n",
    "plt.ylim(0,4000)                    # Set the range of the Y axis\n",
    "plt.xlim(-10,20)                    # Set the range of the X axis\n",
    "plt.show()"
   ]
  },
  {
   "cell_type": "markdown",
   "metadata": {},
   "source": [
    "If we increase the number of samples, the number of data in each bin will increase, but the general shape of the histogram does not change. There are still more data around the mean, and less data at the tails."
   ]
  },
  {
   "cell_type": "markdown",
   "metadata": {},
   "source": [
    "If we increase the variance, the shape becomes flat. There are more data at the tails and less around the mean."
   ]
  },
  {
   "cell_type": "markdown",
   "metadata": {},
   "source": [
    "If we decrease the size of the intervals, there will be more bins and the number of data in each bin will decrease. Therefore, the figure becomes flatter than before."
   ]
  },
  {
   "cell_type": "markdown",
   "metadata": {
    "collapsed": true
   },
   "source": [
    "(c) Code the formula and provide an answer."
   ]
  },
  {
   "cell_type": "code",
   "execution_count": 2,
   "metadata": {},
   "outputs": [
    {
     "name": "stdout",
     "output_type": "stream",
     "text": [
      "13.20996063021597\n"
     ]
    }
   ],
   "source": [
    "n=2                   # Start from the second day\n",
    "sum=0                 # Let sum store the expected number of days to pick half a pill for the first time\n",
    "\n",
    "# Start computing\n",
    "while n<=101:         # While loop. Consider from the second day to the 101st day.\n",
    "    i=99              # The number of full pills in the bottle on the second day\n",
    "    s=1               # Let s store the result of P(pick half a pill for the first time on the nth day)*n\n",
    "    while i>=102-n:   # While loop. Consider the probability of pick a full pill on each day before day n.\n",
    "        s=s*(i/100)\n",
    "        i=i-1\n",
    "    s=s*((n-1)/100)*n # On the day n, the probability of pick half a pill is ((n-1)/100), then times n\n",
    "    sum=sum+s         # Add s to sum\n",
    "    n=n+1\n",
    "    \n",
    "print(sum)            # Print the expected number of days to pick half a pill for the first time"
   ]
  },
  {
   "cell_type": "markdown",
   "metadata": {},
   "source": [
    "So the expected number of days to pick half a pill for the first time is 13.2."
   ]
  }
 ],
 "metadata": {
  "kernelspec": {
   "display_name": "Python 3",
   "language": "python",
   "name": "python3"
  },
  "language_info": {
   "codemirror_mode": {
    "name": "ipython",
    "version": 3
   },
   "file_extension": ".py",
   "mimetype": "text/x-python",
   "name": "python",
   "nbconvert_exporter": "python",
   "pygments_lexer": "ipython3",
   "version": "3.6.1"
  }
 },
 "nbformat": 4,
 "nbformat_minor": 2
}
