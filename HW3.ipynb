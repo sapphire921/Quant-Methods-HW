{
 "cells": [
  {
   "cell_type": "markdown",
   "metadata": {},
   "source": [
    "# Homework 3"
   ]
  },
  {
   "cell_type": "markdown",
   "metadata": {},
   "source": [
    "Author: Sherry"
   ]
  },
  {
   "cell_type": "markdown",
   "metadata": {},
   "source": [
    "E3 (c)"
   ]
  },
  {
   "cell_type": "code",
   "execution_count": 1,
   "metadata": {},
   "outputs": [
    {
     "data": {
      "text/plain": [
       "2"
      ]
     },
     "execution_count": 1,
     "metadata": {},
     "output_type": "execute_result"
    }
   ],
   "source": [
    "import numpy as np\n",
    "def update(state,T):\n",
    "    try:\n",
    "        partition=np.cumsum(T[state])\n",
    "        random=np.random.uniform(0,1)\n",
    "        new_state=len(partition[partition<random])\n",
    "        return(new_state)\n",
    "    except IndexError:\n",
    "        print('The state is not valid. Please enter a state between 0 and {}'\\\n",
    "              .format(len(T)-1))\n",
    "\n",
    "current_state=1\n",
    "T=np.array([[0,0.5,0.5], [0.3,0.3,0.4],[0.2,0.4,0.4]])\n",
    "update(current_state,T)"
   ]
  },
  {
   "cell_type": "markdown",
   "metadata": {},
   "source": [
    "Explain:\n",
    "The code defines a method to transit the current state to the next state by the transition matrix T. We store the current state in the variable current_state and the transition matrix in the T. The updatae(state, T) method first use “T[state]” to get the probabilities for the current state to go to other states. The “np.cumsum” will calculate the cumulative sum of the elements along the row. We assign the value to “partition”. Then we generate a uniform random number between [0,1] and assign it to “random”. The next step is to use “partition < random” to find out which part of the “partition” the uniform random number is in, and use “len(partition[partition < random])” to find the next state. Assume partition=[0.3 0.6 1.0], the logic is that if random number < 0.3, the next state is 0; if 0.3 < random number < 0.6, the next state is 1; if 0.6 < random number < 1.0, the next state is 2. Then we assign the value to new_state and return it. In addition, the code will check if the input current state is valid or not. It checks the dimension of transition matrix T and if the input current state is outside the state space, it will throw an IndexError and output “The state is not valid. Please enter a state between 0 and (dimension of T - 1)”."
   ]
  },
  {
   "cell_type": "markdown",
   "metadata": {},
   "source": [
    "  "
   ]
  },
  {
   "cell_type": "markdown",
   "metadata": {},
   "source": [
    "E3 (d)"
   ]
  },
  {
   "cell_type": "code",
   "execution_count": 2,
   "metadata": {
    "scrolled": true
   },
   "outputs": [
    {
     "name": "stdout",
     "output_type": "stream",
     "text": [
      "S 0 = 100\n",
      "S 1 = 110.0\n",
      "S 2 = 121.0\n",
      "S 3 = 133.1\n",
      "S 4 = 122.452\n",
      "S 5 = 122.452\n",
      "S 6 = 122.452\n",
      "S 7 = 112.65584\n",
      "S 8 = 112.65584\n",
      "S 9 = 112.65584\n",
      "S 10 = 112.65584\n",
      "S 11 = 123.921424\n",
      "S 12 = 136.3135664\n",
      "S 13 = 149.94492304\n",
      "S 14 = 164.939415344\n",
      "S 15 = 181.433356878\n",
      "S 16 = 199.576692566\n",
      "S 17 = 199.576692566\n",
      "S 18 = 219.534361823\n",
      "S 19 = 241.487798005\n",
      "S 20 = 265.636577806\n",
      "S 21 = 244.385651581\n",
      "S 22 = 244.385651581\n",
      "S 23 = 224.834799455\n",
      "S 24 = 206.848015498\n",
      "S 25 = 190.300174258\n",
      "S 26 = 190.300174258\n",
      "S 27 = 209.330191684\n",
      "S 28 = 230.263210853\n",
      "S 29 = 253.289531938\n",
      "S 30 = 278.618485132\n",
      "S 31 = 306.480333645\n",
      "S 32 = 337.12836701\n",
      "S 33 = 370.84120371\n",
      "S 34 = 407.925324082\n",
      "S 35 = 375.291298155\n",
      "S 36 = 345.267994303\n",
      "S 37 = 379.794793733\n",
      "S 38 = 417.774273106\n",
      "S 39 = 459.551700417\n",
      "S 40 = 505.506870458\n",
      "S 41 = 556.057557504\n",
      "S 42 = 611.663313255\n",
      "S 43 = 672.82964458\n",
      "S 44 = 740.112609038\n",
      "S 45 = 814.123869942\n",
      "S 46 = 895.536256936\n",
      "S 47 = 985.08988263\n",
      "S 48 = 906.282692019\n",
      "S 49 = 996.910961221\n",
      "S 50 = 1096.60205734\n",
      "S 51 = 1096.60205734\n",
      "S 52 = 1096.60205734\n",
      "S 53 = 1206.26226308\n",
      "S 54 = 1326.88848939\n",
      "S 55 = 1459.57733832\n",
      "S 56 = 1605.53507216\n",
      "S 57 = 1284.42805773\n",
      "S 58 = 1412.8708635\n",
      "S 59 = 1554.15794985\n",
      "S 60 = 1554.15794985\n",
      "S 61 = 1554.15794985\n",
      "S 62 = 1554.15794985\n",
      "S 63 = 1429.82531386\n",
      "S 64 = 1429.82531386\n",
      "S 65 = 1572.80784525\n",
      "S 66 = 1730.08862977\n",
      "S 67 = 1903.09749275\n",
      "S 68 = 1903.09749275\n",
      "S 69 = 1750.84969333\n",
      "S 70 = 1610.78171786\n",
      "S 71 = 1481.91918043\n",
      "S 72 = 1363.365646\n",
      "S 73 = 1254.29639432\n",
      "S 74 = 1254.29639432\n",
      "S 75 = 1254.29639432\n",
      "S 76 = 1003.43711545\n",
      "S 77 = 1003.43711545\n",
      "S 78 = 923.162146218\n",
      "S 79 = 849.309174521\n",
      "S 80 = 849.309174521\n",
      "S 81 = 934.240091973\n",
      "S 82 = 1027.66410117\n",
      "S 83 = 822.131280936\n",
      "S 84 = 756.360778461\n",
      "S 85 = 756.360778461\n",
      "S 86 = 756.360778461\n",
      "S 87 = 756.360778461\n",
      "S 88 = 756.360778461\n",
      "S 89 = 756.360778461\n",
      "S 90 = 756.360778461\n",
      "S 91 = 756.360778461\n",
      "S 92 = 831.996856307\n",
      "S 93 = 831.996856307\n",
      "S 94 = 831.996856307\n",
      "S 95 = 831.996856307\n",
      "S 96 = 765.437107803\n",
      "S 97 = 765.437107803\n",
      "S 98 = 765.437107803\n",
      "S 99 = 765.437107803\n",
      "S 100 = 841.980818583\n"
     ]
    },
    {
     "data": {
      "image/png": "[encoded data removed]",
      "text/plain": [
       "<matplotlib.figure.Figure at 0x1123462b0>"
      ]
     },
     "metadata": {},
     "output_type": "display_data"
    }
   ],
   "source": [
    "import numpy as np\n",
    "import matplotlib.pyplot as plt\n",
    "\n",
    "# Define the update() function to generate stock price process\n",
    "def update(state0,T,N,price_change,S0):\n",
    "    try:\n",
    "        state=state0\n",
    "        S=S0\n",
    "        i=1\n",
    "        v=[]\n",
    "        v.append(S)\n",
    "        while i<=N:\n",
    "            partition=np.cumsum(T[state])\n",
    "            random=np.random.uniform(0,1)\n",
    "            state=len(partition[partition<random])\n",
    "            S=S*price_change[state]\n",
    "            v.append(S)\n",
    "            i=i+1\n",
    "        return v\n",
    "    except IndexError:\n",
    "        print('The state is not valid. Please enter a state between 0 and {}'\\\n",
    "              .format(len(T)-1))\n",
    "\n",
    "# Input data\n",
    "state0=0                                # Initial state\n",
    "T=np.array([[0.7,0.1,0.1,0.1], [0.2,0.4,0.4,0],[0.1,0.1,0.7,0.1],[1/3,1/3,1/3,0]])\n",
    "N=100                                   # Number of time steps\n",
    "price_change=np.array([1.1,0.92,1,0.8]) # Price change vector\n",
    "S0=100                                  # Initial stock price\n",
    "\n",
    "# Generate the stock prices and output them\n",
    "v=update(state0,T,N,price_change,S0)    # v stores the prick processes that \n",
    "                                        # follows the markov chain dynamics\n",
    "j=0\n",
    "for item in v:\n",
    "    print(\"S\",j,\"=\",item)\n",
    "    j=j+1\n",
    "\n",
    "# Draw the graph\n",
    "y = v\n",
    "x = range(0,len(y))\n",
    "plt.figure(figsize=(10, 6))\n",
    "plt.plot(x,y,'')  \n",
    "plt.xlabel('Time')\n",
    "plt.ylabel('Stock Price')\n",
    "plt.title('Simulated Stock Price Process')\n",
    "plt.show()"
   ]
  }
 ],
 "metadata": {
  "kernelspec": {
   "display_name": "Python 3",
   "language": "python",
   "name": "python3"
  },
  "language_info": {
   "codemirror_mode": {
    "name": "ipython",
    "version": 3
   },
   "file_extension": ".py",
   "mimetype": "text/x-python",
   "name": "python",
   "nbconvert_exporter": "python",
   "pygments_lexer": "ipython3",
   "version": "3.6.1"
  }
 },
 "nbformat": 4,
 "nbformat_minor": 2
}
